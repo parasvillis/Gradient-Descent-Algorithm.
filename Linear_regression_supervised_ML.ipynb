{
 "cells": [
  {
   "cell_type": "markdown",
   "metadata": {},
   "source": [
    "<b><font size=\"6\" color = 'green'>Linear Regression - Algorithm, Supervised Machine Learning</font></b>"
   ]
  },
  {
   "cell_type": "markdown",
   "metadata": {},
   "source": [
    "<font size = \"4\"><b>Linear Regression</b></font> is a <font size = \"4\"><b>Supervised Machine Learning Algorithm</b></font> which is used to define a linear relationship between any 2 objects defined by any number of parameters.\n",
    "\n",
    "First refer https://www.youtube.com/watch?v=zPG4NjIkCjc  and it will be more easy to understand the code."
   ]
  },
  {
   "cell_type": "markdown",
   "metadata": {},
   "source": [
    "<font size = \"4\"><b>Importing required libraries</b></font>"
   ]
  },
  {
   "cell_type": "code",
   "execution_count": 1,
   "metadata": {},
   "outputs": [],
   "source": [
    "import numpy as np\n",
    "import pandas as pd"
   ]
  },
  {
   "cell_type": "markdown",
   "metadata": {},
   "source": [
    "<font size = \"4\"><b>Reading Data into DataFrame</b></font>"
   ]
  },
  {
   "cell_type": "code",
   "execution_count": 3,
   "metadata": {},
   "outputs": [],
   "source": [
    "dfx = pd.read_csv('linearX.csv')\n",
    "dfy = pd.read_csv('linearY.csv')\n",
    "#dfx.head()\n",
    "#dfy.head()"
   ]
  },
  {
   "cell_type": "code",
   "execution_count": 4,
   "metadata": {},
   "outputs": [
    {
     "name": "stdout",
     "output_type": "stream",
     "text": [
      "<class 'numpy.ndarray'>\n",
      "<class 'numpy.ndarray'>\n",
      "(99,)\n",
      "(99,)\n"
     ]
    }
   ],
   "source": [
    "# convert pandas DataFrame to numpy arrray\n",
    "\n",
    "X = dfx.values\n",
    "Y = dfy.values\n",
    "print(type(X))\n",
    "print(type(Y))\n",
    "X = X.reshape((-1,))          #making a linear array(no columns)....number of rows are mandatory(-1 is writenn as we don't know how much rows must b there, it will automtically assign desired number of rows to completely fill all the elements)\n",
    "Y = Y.reshape((-1,))\n",
    "print(X.shape)\n",
    "print(Y.shape)"
   ]
  },
  {
   "cell_type": "markdown",
   "metadata": {},
   "source": [
    "<font size = \"4\"><b>Data Visualisation</b></font>"
   ]
  },
  {
   "cell_type": "code",
   "execution_count": 18,
   "metadata": {},
   "outputs": [],
   "source": [
    "import matplotlib.pyplot as plt\n",
    "plt.style.use('dark_background')"
   ]
  },
  {
   "cell_type": "code",
   "execution_count": 19,
   "metadata": {},
   "outputs": [
    {
     "data": {
      "image/png": "[encoded data removed]",
      "text/plain": [
       "<matplotlib.figure.Figure at 0x226c4c82710>"
      ]
     },
     "metadata": {},
     "output_type": "display_data"
    }
   ],
   "source": [
    "plt.scatter(X, Y, color = 'orange', marker = '.')\n",
    "plt.title('Density Vs Acidity of milk')\n",
    "plt.xlabel(\"Density\")\n",
    "plt.ylabel(\"Acidity\")\n",
    "plt.show()\n",
    "\n",
    "# Normalisation\n",
    "X = (X - X.mean())/(X.std())"
   ]
  },
  {
   "cell_type": "markdown",
   "metadata": {},
   "source": [
    "<font size = \"4\"><b>Helper Functions</b></font>"
   ]
  },
  {
   "cell_type": "code",
   "execution_count": 33,
   "metadata": {},
   "outputs": [],
   "source": [
    "# hypothesis is hypothetical equation of the best fit line.  \n",
    "def hypothesis(x, theta):\n",
    "    return theta[0] + x*theta[1]\n",
    "\n",
    "# The vertical distance of points from line(we need to minimise it).\n",
    "def error(Y, X, theta):\n",
    "    m = X.shape[0]\n",
    "    total_error = 0\n",
    "    \n",
    "    for i in range(m):\n",
    "        e = (Y[i] - hypothesis(X[i],theta))**2\n",
    "        total_error += e\n",
    "        \n",
    "    return 0.5*total_error\n",
    "\n",
    "\n",
    "# The gradient wrt theta0 and theta1.\n",
    "def get_grad(X, Y, theta):\n",
    "    grad0, grad1 = 0, 0\n",
    "    m = X.shape[0]\n",
    "    \n",
    "    for i in range(m):\n",
    "        hx = hypothesis(X[i], theta)\n",
    "        grad0 += hx - Y[i]\n",
    "        grad1 += (hx - Y[i])*X[i]\n",
    "    \n",
    "    return grad0, grad1"
   ]
  },
  {
   "cell_type": "markdown",
   "metadata": {},
   "source": [
    "<font size = \"4\"><b>Implementing the Algorithm</b></font>"
   ]
  },
  {
   "cell_type": "code",
   "execution_count": 40,
   "metadata": {},
   "outputs": [],
   "source": [
    "# learning_rate is the pace of algorithm to learn or a step from random theta to local minima.\n",
    "def gradientDescent(X, Y, learning_rate=0.001):\n",
    "    theta = np.zeros((2,))\n",
    "    \n",
    "    maxItr = 100\n",
    "    itr = 1\n",
    "    error_list = []\n",
    "    \n",
    "    while(itr < maxItr):\n",
    "        grad0, grad1 = get_grad(X, Y, theta)\n",
    "        e = error(Y, X, theta)\n",
    "        error_list.append(e)\n",
    "        theta[0] = theta[0] - learning_rate*grad0\n",
    "        theta[1] = theta[1] - learning_rate*grad1\n",
    "        itr += 1\n",
    "    return theta, error_list"
   ]
  },
  {
   "cell_type": "markdown",
   "metadata": {},
   "source": [
    "<font size = \"4\"><b>This plot shows the gradual decrease in errors wrt learning_rate</b></font>(for more try changing the learning rate and analyse)."
   ]
  },
  {
   "cell_type": "code",
   "execution_count": 41,
   "metadata": {},
   "outputs": [
    {
     "name": "stdout",
     "output_type": "stream",
     "text": [
      "[0.99660131 0.0013579 ]\n"
     ]
    },
    {
     "data": {
      "image/png": "[encoded data removed]",
      "text/plain": [
       "<matplotlib.figure.Figure at 0x226c62a92e8>"
      ]
     },
     "metadata": {},
     "output_type": "display_data"
    }
   ],
   "source": [
    "theta, error_list = gradientDescent(X, Y)\n",
    "print(theta)\n",
    "\n",
    "plt.plot(error_list)\n",
    "plt.show()"
   ]
  },
  {
   "cell_type": "code",
   "execution_count": 42,
   "metadata": {},
   "outputs": [
    {
     "data": {
      "image/png": "[encoded data removed]",
      "text/plain": [
       "<matplotlib.figure.Figure at 0x226c4ef05c0>"
      ]
     },
     "metadata": {},
     "output_type": "display_data"
    }
   ],
   "source": [
    "plt.scatter(X, Y)\n",
    "plt.show()"
   ]
  },
  {
   "cell_type": "markdown",
   "metadata": {},
   "source": [
    "<font size = \"4\"><b>Giving my own test cases using random numbers.</b></font>"
   ]
  },
  {
   "cell_type": "code",
   "execution_count": 37,
   "metadata": {},
   "outputs": [
    {
     "name": "stdout",
     "output_type": "stream",
     "text": [
      "(10,)\n",
      "[0.9911697298240165, 0.9926785020850832, 0.99418727434615, 0.9956960466072167, 0.9972048188682835, 0.9987135911293502, 1.000222363390417, 1.0017311356514838, 1.0032399079125505, 1.0047486801736172]\n"
     ]
    }
   ],
   "source": [
    "testX = np.linspace(-4, 6, 10)\n",
    "print(testX.shape)\n",
    "#print(testX)\n",
    "\n",
    "\n",
    "predictedY = []\n",
    "#for tx in testX:\n",
    "py = hypothesis(testX, theta)\n",
    "predictedY.append(py)\n",
    "prediction = np.array(predictedY)\n",
    "j = []\n",
    "j = [j for sub in prediction for j in sub]       # Converting a 2d list to a 1d list.\n",
    "print(j)"
   ]
  },
  {
   "cell_type": "markdown",
   "metadata": {},
   "source": [
    "<font size = \"4\"><b>Plot of Algorithm</b></font>"
   ]
  },
  {
   "cell_type": "code",
   "execution_count": 43,
   "metadata": {},
   "outputs": [
    {
     "data": {
      "image/png": "[encoded data removed]",
      "text/plain": [
       "<matplotlib.figure.Figure at 0x226c6191f60>"
      ]
     },
     "metadata": {},
     "output_type": "display_data"
    }
   ],
   "source": [
    "plt.plot(testX, j, color = 'white')\n",
    "plt.scatter(testX, j, color = 'blue')\n",
    "plt.scatter(X, Y, marker = '*', color = 'red')\n",
    "plt.show()"
   ]
  },
  {
   "cell_type": "code",
   "execution_count": null,
   "metadata": {},
   "outputs": [],
   "source": []
  }
 ],
 "metadata": {
  "kernelspec": {
   "display_name": "Python 3",
   "language": "python",
   "name": "python3"
  },
  "language_info": {
   "codemirror_mode": {
    "name": "ipython",
    "version": 3
   },
   "file_extension": ".py",
   "mimetype": "text/x-python",
   "name": "python",
   "nbconvert_exporter": "python",
   "pygments_lexer": "ipython3",
   "version": "3.6.4"
  }
 },
 "nbformat": 4,
 "nbformat_minor": 2
}
